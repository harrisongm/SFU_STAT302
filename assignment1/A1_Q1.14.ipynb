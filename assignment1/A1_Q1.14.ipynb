{
 "cells": [
  {
   "cell_type": "markdown",
   "id": "e8cc89c2-ee05-455e-9b11-cea9954666b2",
   "metadata": {},
   "source": [
    "STAT302 - Assignment1 Q1.14"
   ]
  },
  {
   "cell_type": "markdown",
   "id": "d4a94198-88ee-40a0-ba12-65eba571aff7",
   "metadata": {},
   "source": [
    "x1 = 30, y1 = 60\n",
    "\n",
    "Predicted Value = 78 - 0.5 * 30 = 63\n",
    "\n",
    "residual = 60 - 63 = -3"
   ]
  }
 ],
 "metadata": {
  "kernelspec": {
   "display_name": "R",
   "language": "R",
   "name": "ir"
  },
  "language_info": {
   "codemirror_mode": "r",
   "file_extension": ".r",
   "mimetype": "text/x-r-source",
   "name": "R",
   "pygments_lexer": "r",
   "version": "4.2.2"
  }
 },
 "nbformat": 4,
 "nbformat_minor": 5
}
