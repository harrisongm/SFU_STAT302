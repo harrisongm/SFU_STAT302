{
 "cells": [
  {
   "cell_type": "markdown",
   "id": "d95123a1-857b-4ca9-8aee-13cbcb369962",
   "metadata": {},
   "source": [
    "STAT302 - Assignment 1 Q1.10"
   ]
  },
  {
   "cell_type": "markdown",
   "id": "2f7f652e-eedb-481f-a50e-fb6ceca84c9d",
   "metadata": {},
   "source": [
    "The size of typical error = 0.2595"
   ]
  }
 ],
 "metadata": {
  "kernelspec": {
   "display_name": "R",
   "language": "R",
   "name": "ir"
  },
  "language_info": {
   "codemirror_mode": "r",
   "file_extension": ".r",
   "mimetype": "text/x-r-source",
   "name": "R",
   "pygments_lexer": "r",
   "version": "4.2.2"
  }
 },
 "nbformat": 4,
 "nbformat_minor": 5
}
