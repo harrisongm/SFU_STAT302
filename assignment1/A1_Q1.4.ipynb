{
 "cells": [
  {
   "cell_type": "markdown",
   "id": "d91e8192-cfa9-4189-9067-35a92ea607f5",
   "metadata": {},
   "source": [
    "STAT302 - Assignment 1 Q1.4"
   ]
  },
  {
   "cell_type": "code",
   "execution_count": 1,
   "id": "3b783316-14ec-47c0-9a5b-7ff8c44a161d",
   "metadata": {},
   "outputs": [
    {
     "name": "stderr",
     "output_type": "stream",
     "text": [
      "Installing package into ‘/home/jupyter/R/x86_64-pc-linux-gnu-library/4.1’\n",
      "(as ‘lib’ is unspecified)\n",
      "\n"
     ]
    }
   ],
   "source": [
    "install.packages('Stat2Data', repos = 'https://cran.us.r-project.org')"
   ]
  },
  {
   "cell_type": "code",
   "execution_count": 2,
   "id": "cc0f44b8-7872-452d-8afc-dace71e09dc2",
   "metadata": {},
   "outputs": [],
   "source": [
    "library(Stat2Data)"
   ]
  },
  {
   "cell_type": "code",
   "execution_count": 3,
   "id": "826a8317-ad9d-41ad-808f-b69149a42ee1",
   "metadata": {},
   "outputs": [],
   "source": [
    "data(LongJumpOlympics2016)"
   ]
  },
  {
   "cell_type": "code",
   "execution_count": 4,
   "id": "cd0f65d5-0671-40d5-a19d-3bbd75c8c9c5",
   "metadata": {},
   "outputs": [
    {
     "name": "stdout",
     "output_type": "stream",
     "text": [
      "'data.frame':\t28 obs. of  2 variables:\n",
      " $ Year: int  1900 1904 1906 1908 1912 1920 1924 1928 1932 1936 ...\n",
      " $ Gold: num  7.18 7.34 7.2 7.48 7.6 ...\n"
     ]
    }
   ],
   "source": [
    "str(LongJumpOlympics2016)"
   ]
  },
  {
   "cell_type": "code",
   "execution_count": 6,
   "id": "f44cd33b-bb70-4cc0-a15f-a60276307421",
   "metadata": {},
   "outputs": [
    {
     "data": {
      "text/plain": [
       "\n",
       "Call:\n",
       "lm(formula = Gold ~ Year, data = LongJumpOlympics2016)\n",
       "\n",
       "Residuals:\n",
       "     Min       1Q   Median       3Q      Max \n",
       "-0.39610 -0.15495 -0.00137  0.11606  0.75349 \n",
       "\n",
       "Coefficients:\n",
       "              Estimate Std. Error t value Pr(>|t|)    \n",
       "(Intercept) -16.470194   2.666282  -6.177 1.56e-06 ***\n",
       "Year          0.012508   0.001361   9.191 1.19e-09 ***\n",
       "---\n",
       "Signif. codes:  0 ‘***’ 0.001 ‘**’ 0.01 ‘*’ 0.05 ‘.’ 0.1 ‘ ’ 1\n",
       "\n",
       "Residual standard error: 0.2595 on 26 degrees of freedom\n",
       "Multiple R-squared:  0.7646,\tAdjusted R-squared:  0.7556 \n",
       "F-statistic: 84.47 on 1 and 26 DF,  p-value: 1.192e-09\n"
      ]
     },
     "metadata": {},
     "output_type": "display_data"
    }
   ],
   "source": [
    "model_2016 = lm(Gold ~ Year, data = LongJumpOlympics2016)\n",
    "summary(model_2016)"
   ]
  },
  {
   "cell_type": "markdown",
   "id": "b4096c4a-b27d-4398-b878-00359c6dc5d5",
   "metadata": {},
   "source": [
    "\n",
    "So the slope of the model is: 0.012508"
   ]
  }
 ],
 "metadata": {
  "kernelspec": {
   "display_name": "R",
   "language": "R",
   "name": "ir"
  },
  "language_info": {
   "codemirror_mode": "r",
   "file_extension": ".r",
   "mimetype": "text/x-r-source",
   "name": "R",
   "pygments_lexer": "r",
   "version": "4.2.2"
  }
 },
 "nbformat": 4,
 "nbformat_minor": 5
}
