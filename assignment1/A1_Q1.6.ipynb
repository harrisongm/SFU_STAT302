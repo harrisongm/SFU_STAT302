{
 "cells": [
  {
   "cell_type": "markdown",
   "id": "2bb0f278-7e13-492b-b38a-cf61bdd065d0",
   "metadata": {},
   "source": [
    "STAT302 - Assignment 1 Q1.6"
   ]
  },
  {
   "cell_type": "markdown",
   "id": "617e4d4a-6435-4a81-a57d-6f2bd920f19a",
   "metadata": {},
   "source": [
    "The intercept of the least squares regression line = -16.470194"
   ]
  }
 ],
 "metadata": {
  "kernelspec": {
   "display_name": "R",
   "language": "R",
   "name": "ir"
  },
  "language_info": {
   "codemirror_mode": "r",
   "file_extension": ".r",
   "mimetype": "text/x-r-source",
   "name": "R",
   "pygments_lexer": "r",
   "version": "4.2.2"
  }
 },
 "nbformat": 4,
 "nbformat_minor": 5
}
