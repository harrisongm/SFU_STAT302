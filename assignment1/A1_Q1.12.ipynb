{
 "cells": [
  {
   "cell_type": "markdown",
   "id": "9f27e790-632c-48b6-b34f-f34e886025ac",
   "metadata": {},
   "source": [
    "STAT302 - Assignment1 Q1.12"
   ]
  },
  {
   "cell_type": "markdown",
   "id": "a8ceebb3-f702-45c2-a69d-f33f9e681e41",
   "metadata": {},
   "source": [
    "The degree of freedom = 26"
   ]
  }
 ],
 "metadata": {
  "kernelspec": {
   "display_name": "R",
   "language": "R",
   "name": "ir"
  },
  "language_info": {
   "codemirror_mode": "r",
   "file_extension": ".r",
   "mimetype": "text/x-r-source",
   "name": "R",
   "pygments_lexer": "r",
   "version": "4.2.2"
  }
 },
 "nbformat": 4,
 "nbformat_minor": 5
}
