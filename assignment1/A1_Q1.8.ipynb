{
 "cells": [
  {
   "cell_type": "markdown",
   "id": "2eed6489-fb91-49f3-b291-05bbd724b55d",
   "metadata": {},
   "source": [
    "STAT302 - Assginment 1 Q1.8"
   ]
  },
  {
   "cell_type": "markdown",
   "id": "73b540df-bbaa-451a-accc-3c30482d9491",
   "metadata": {},
   "source": [
    "When the year increase 1 year, the avg. length of winning long jump increase 0.012508"
   ]
  },
  {
   "cell_type": "code",
   "execution_count": null,
   "id": "4b072c70-2be9-4256-86ce-a5f810f459a1",
   "metadata": {},
   "outputs": [],
   "source": []
  }
 ],
 "metadata": {
  "kernelspec": {
   "display_name": "R",
   "language": "R",
   "name": "ir"
  },
  "language_info": {
   "codemirror_mode": "r",
   "file_extension": ".r",
   "mimetype": "text/x-r-source",
   "name": "R",
   "pygments_lexer": "r",
   "version": "4.2.2"
  }
 },
 "nbformat": 4,
 "nbformat_minor": 5
}
