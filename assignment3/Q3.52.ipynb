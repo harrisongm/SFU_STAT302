{
 "cells": [
  {
   "cell_type": "code",
   "execution_count": 4,
   "id": "9a944383-fc9c-4d48-b9f7-b869140e117f",
   "metadata": {},
   "outputs": [
    {
     "name": "stderr",
     "output_type": "stream",
     "text": [
      "Installing package into ‘/home/jupyter/R/x86_64-pc-linux-gnu-library/4.2’\n",
      "(as ‘lib’ is unspecified)\n",
      "\n"
     ]
    },
    {
     "name": "stdout",
     "output_type": "stream",
     "text": [
      "'data.frame':\t39 obs. of  3 variables:\n",
      " $ Type: Factor w/ 2 levels \"DLB\",\"DLB/AD\": 1 1 1 1 1 1 1 1 1 1 ...\n",
      " $ APC : num  0.85 0.49 0.12 0 -0.22 -0.35 -0.4 -0.41 -0.43 -0.45 ...\n",
      " $ MMSE: num  2.22 0.37 -0.1 -2.99 0.66 -2.47 -0.03 -1.92 -0.09 -3.03 ...\n"
     ]
    }
   ],
   "source": [
    "### Q3.52\n",
    "install.packages('Stat2Data', repos='http://cran.us.r-project.org')\n",
    "library(Stat2Data)\n",
    "data(LewyBody2Groups)\n",
    "str(LewyBody2Groups)"
   ]
  },
  {
   "cell_type": "code",
   "execution_count": 5,
   "id": "93c101a8-7910-40e4-a2c5-9b8af4d2a40d",
   "metadata": {},
   "outputs": [
    {
     "data": {
      "text/plain": [
       "\n",
       "Call:\n",
       "lm(formula = MMSE ~ APC + Type + APC * Type, data = LewyBody2Groups)\n",
       "\n",
       "Residuals:\n",
       "    Min      1Q  Median      3Q     Max \n",
       "-8.3905 -1.5841 -0.1014  1.6959  4.9309 \n",
       "\n",
       "Coefficients:\n",
       "               Estimate Std. Error t value Pr(>|t|)  \n",
       "(Intercept)     -0.5846     0.7927  -0.738   0.4657  \n",
       "APC              2.3176     1.1640   1.991   0.0543 .\n",
       "TypeDLB/AD      -1.8513     1.1471  -1.614   0.1155  \n",
       "APC:TypeDLB/AD  -0.9732     1.2712  -0.766   0.4490  \n",
       "---\n",
       "Signif. codes:  0 ‘***’ 0.001 ‘**’ 0.01 ‘*’ 0.05 ‘.’ 0.1 ‘ ’ 1\n",
       "\n",
       "Residual standard error: 2.64 on 35 degrees of freedom\n",
       "Multiple R-squared:  0.3484,\tAdjusted R-squared:  0.2926 \n",
       "F-statistic: 6.239 on 3 and 35 DF,  p-value: 0.001656\n"
      ]
     },
     "metadata": {},
     "output_type": "display_data"
    }
   ],
   "source": [
    "# part a\n",
    "in_model = lm(MMSE~APC+Type+APC*Type, data=LewyBody2Groups)\n",
    "summary(in_model)"
   ]
  },
  {
   "cell_type": "markdown",
   "id": "5acc9626-e2a4-469e-854c-90fc435891c5",
   "metadata": {},
   "source": [
    "For type DLB/AD: MMSE-hat = -0.5846 + 2.3176APC - 1.8513*1 - 0.9732APC*1 = -2.4359 + 1.3444APC \\\n",
    "For type DLB: MMSE-hat = -0.5846 + 2.3176APC"
   ]
  },
  {
   "cell_type": "markdown",
   "id": "5cda0ea9-816a-40fd-8587-871d850f645b",
   "metadata": {},
   "source": [
    "part b \\\n",
    "t = -0.766, df = 35, p-value = 0.4490, fail to reject H0. \\\n",
    "We believe that INTERACTION is not needed and that parallel lines should suffice."
   ]
  },
  {
   "cell_type": "code",
   "execution_count": 6,
   "id": "3b2fa8dd-3c6a-40c3-a034-a3c0a6c5841a",
   "metadata": {},
   "outputs": [
    {
     "data": {
      "text/html": [
       "<table class=\"dataframe\">\n",
       "<caption>A anova: 2 × 6</caption>\n",
       "<thead>\n",
       "\t<tr><th></th><th scope=col>Res.Df</th><th scope=col>RSS</th><th scope=col>Df</th><th scope=col>Sum of Sq</th><th scope=col>F</th><th scope=col>Pr(&gt;F)</th></tr>\n",
       "\t<tr><th></th><th scope=col>&lt;dbl&gt;</th><th scope=col>&lt;dbl&gt;</th><th scope=col>&lt;dbl&gt;</th><th scope=col>&lt;dbl&gt;</th><th scope=col>&lt;dbl&gt;</th><th scope=col>&lt;dbl&gt;</th></tr>\n",
       "</thead>\n",
       "<tbody>\n",
       "\t<tr><th scope=row>1</th><td>37</td><td>262.5764</td><td>NA</td><td>      NA</td><td>      NA</td><td>       NA</td></tr>\n",
       "\t<tr><th scope=row>2</th><td>35</td><td>243.8750</td><td> 2</td><td>18.70134</td><td>1.341972</td><td>0.2744446</td></tr>\n",
       "</tbody>\n",
       "</table>\n"
      ],
      "text/latex": [
       "A anova: 2 × 6\n",
       "\\begin{tabular}{r|llllll}\n",
       "  & Res.Df & RSS & Df & Sum of Sq & F & Pr(>F)\\\\\n",
       "  & <dbl> & <dbl> & <dbl> & <dbl> & <dbl> & <dbl>\\\\\n",
       "\\hline\n",
       "\t1 & 37 & 262.5764 & NA &       NA &       NA &        NA\\\\\n",
       "\t2 & 35 & 243.8750 &  2 & 18.70134 & 1.341972 & 0.2744446\\\\\n",
       "\\end{tabular}\n"
      ],
      "text/markdown": [
       "\n",
       "A anova: 2 × 6\n",
       "\n",
       "| <!--/--> | Res.Df &lt;dbl&gt; | RSS &lt;dbl&gt; | Df &lt;dbl&gt; | Sum of Sq &lt;dbl&gt; | F &lt;dbl&gt; | Pr(&gt;F) &lt;dbl&gt; |\n",
       "|---|---|---|---|---|---|---|\n",
       "| 1 | 37 | 262.5764 | NA |       NA |       NA |        NA |\n",
       "| 2 | 35 | 243.8750 |  2 | 18.70134 | 1.341972 | 0.2744446 |\n",
       "\n"
      ],
      "text/plain": [
       "  Res.Df RSS      Df Sum of Sq F        Pr(>F)   \n",
       "1 37     262.5764 NA       NA        NA        NA\n",
       "2 35     243.8750  2 18.70134  1.341972 0.2744446"
      ]
     },
     "metadata": {},
     "output_type": "display_data"
    }
   ],
   "source": [
    "# part c\n",
    "reduced_model = lm(MMSE~APC,data=LewyBody2Groups)\n",
    "anova(reduced_model, in_model)"
   ]
  },
  {
   "cell_type": "markdown",
   "id": "41bdd2ea-60b7-4f3b-864c-c48e26613e1f",
   "metadata": {},
   "source": [
    "F = 1.342, P-value = 0.2744, fail to reject H0, we have no evidence that the APC can affect MMSE.\n",
    "The term involving Type can affect MMSE"
   ]
  }
 ],
 "metadata": {
  "kernelspec": {
   "display_name": "R",
   "language": "R",
   "name": "ir"
  },
  "language_info": {
   "codemirror_mode": "r",
   "file_extension": ".r",
   "mimetype": "text/x-r-source",
   "name": "R",
   "pygments_lexer": "r",
   "version": "4.2.3"
  }
 },
 "nbformat": 4,
 "nbformat_minor": 5
}
