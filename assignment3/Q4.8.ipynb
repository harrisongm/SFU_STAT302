{
 "cells": [
  {
   "cell_type": "code",
   "execution_count": 1,
   "id": "ea4b991e-0e8c-4fc1-a48d-6b37d90a004c",
   "metadata": {},
   "outputs": [
    {
     "name": "stderr",
     "output_type": "stream",
     "text": [
      "Installing package into ‘/home/jupyter/R/x86_64-pc-linux-gnu-library/4.2’\n",
      "(as ‘lib’ is unspecified)\n",
      "\n"
     ]
    },
    {
     "name": "stdout",
     "output_type": "stream",
     "text": [
      "'data.frame':\t53 obs. of  4 variables:\n",
      " $ County   : Factor w/ 53 levels \"Bay, FL                             \",..: 1 2 3 4 5 6 7 8 9 10 ...\n",
      " $ MDs      : int  351 95 260 2797 769 42 13 20 2981 83 ...\n",
      " $ Hospitals: int  3 2 2 11 5 2 2 2 7 3 ...\n",
      " $ Beds     : int  605 134 567 1435 976 245 33 65 1462 100 ...\n"
     ]
    }
   ],
   "source": [
    "### Q4.8\n",
    "install.packages('Stat2Data', repos='http://cran.us.r-project.org')\n",
    "library(Stat2Data)\n",
    "data(CountyHealth)\n",
    "str(CountyHealth)"
   ]
  },
  {
   "cell_type": "code",
   "execution_count": 2,
   "id": "8022974a-aaeb-4a8c-b29c-e1da49e42201",
   "metadata": {},
   "outputs": [
    {
     "data": {
      "text/plain": [
       "\n",
       "Call:\n",
       "lm(formula = sqrt(MDs) ~ Hospitals, data = train)\n",
       "\n",
       "Residuals:\n",
       "    Min      1Q  Median      3Q     Max \n",
       "-18.582  -6.362  -2.918   8.277  23.170 \n",
       "\n",
       "Coefficients:\n",
       "            Estimate Std. Error t value Pr(>|t|)    \n",
       "(Intercept)  -3.1695     2.6915  -1.178    0.247    \n",
       "Hospitals     6.7853     0.5284  12.841 2.19e-14 ***\n",
       "---\n",
       "Signif. codes:  0 ‘***’ 0.001 ‘**’ 0.01 ‘*’ 0.05 ‘.’ 0.1 ‘ ’ 1\n",
       "\n",
       "Residual standard error: 9.627 on 33 degrees of freedom\n",
       "Multiple R-squared:  0.8332,\tAdjusted R-squared:  0.8282 \n",
       "F-statistic: 164.9 on 1 and 33 DF,  p-value: 2.194e-14\n"
      ]
     },
     "metadata": {},
     "output_type": "display_data"
    }
   ],
   "source": [
    "# part a\n",
    "train = CountyHealth[1:35,]\n",
    "holdout = CountyHealth[36:53,]\n",
    "\n",
    "fit_model = lm(sqrt(MDs)~Hospitals, data=train)\n",
    "summary(fit_model)"
   ]
  },
  {
   "cell_type": "markdown",
   "id": "285ab682-5b6a-4dc5-862f-28b146fef100",
   "metadata": {},
   "source": [
    "Root-MDS-hat = -3.1695 + 6.7853Hospitals"
   ]
  },
  {
   "cell_type": "code",
   "execution_count": 3,
   "id": "23e30e99-45a4-476a-89d6-53d69370c896",
   "metadata": {},
   "outputs": [
    {
     "data": {
      "text/html": [
       "0.977856241441471"
      ],
      "text/latex": [
       "0.977856241441471"
      ],
      "text/markdown": [
       "0.977856241441471"
      ],
      "text/plain": [
       "[1] 0.9778562"
      ]
     },
     "metadata": {},
     "output_type": "display_data"
    }
   ],
   "source": [
    "# part b\n",
    "hold_df = data.frame(Hospitals = holdout$Hospitals)\n",
    "pridiction = predict(fit_model, newdata = hold_df)\n",
    "pridiction_square = pridiction^2\n",
    "cor(pridiction_square, holdout$MDs)"
   ]
  },
  {
   "cell_type": "markdown",
   "id": "fa28b867-56d4-4f55-8b48-da9c305d6fe7",
   "metadata": {},
   "source": [
    "part c \\\n",
    "Shrinkage = 0.8332 - 0.9778^2 = -0.1229 \\\n",
    "This model is great for predicting MDs because holdout data produces correlation great"
   ]
  }
 ],
 "metadata": {
  "kernelspec": {
   "display_name": "R",
   "language": "R",
   "name": "ir"
  },
  "language_info": {
   "codemirror_mode": "r",
   "file_extension": ".r",
   "mimetype": "text/x-r-source",
   "name": "R",
   "pygments_lexer": "r",
   "version": "4.2.3"
  }
 },
 "nbformat": 4,
 "nbformat_minor": 5
}
