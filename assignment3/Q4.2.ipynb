{
 "cells": [
  {
   "cell_type": "code",
   "execution_count": 1,
   "id": "181e97c1-71ca-4034-a2ea-05473e263bd1",
   "metadata": {},
   "outputs": [
    {
     "name": "stderr",
     "output_type": "stream",
     "text": [
      "Installing package into ‘/home/jupyter/R/x86_64-pc-linux-gnu-library/4.2’\n",
      "(as ‘lib’ is unspecified)\n",
      "\n"
     ]
    },
    {
     "name": "stdout",
     "output_type": "stream",
     "text": [
      "'data.frame':\t46 obs. of  6 variables:\n",
      " $ Peak      : Factor w/ 46 levels \"Algonquin Peak \",..: 26 1 25 29 45 11 16 18 4 15 ...\n",
      " $ Elevation : int  5344 5114 4960 4926 4867 4857 4840 4840 4827 4736 ...\n",
      " $ Difficulty: int  5 5 7 7 4 5 7 6 6 5 ...\n",
      " $ Ascent    : int  3166 2936 3570 4265 2535 2800 4178 3250 3650 4070 ...\n",
      " $ Length    : num  14.8 9.6 17.8 17.9 10.4 13.2 16 11.6 16.5 10 ...\n",
      " $ Time      : num  10 9 12 15 8.5 10 14 8.5 11 9 ...\n"
     ]
    }
   ],
   "source": [
    "### Q 4.2\n",
    "install.packages('Stat2Data', repos='http://cran.us.r-project.org')\n",
    "library(Stat2Data)\n",
    "data(HighPeaks)\n",
    "str(HighPeaks)"
   ]
  },
  {
   "cell_type": "code",
   "execution_count": 2,
   "id": "be7af0f4-bf08-450a-9bae-446aa403b9b7",
   "metadata": {},
   "outputs": [
    {
     "data": {
      "image/png": "[encoded data removed]",
      "text/plain": [
       "Plot with title “Correlation between Time and Elevation”"
      ]
     },
     "metadata": {
      "image/png": {
       "height": 420,
       "width": 420
      }
     },
     "output_type": "display_data"
    }
   ],
   "source": [
    "# part a\n",
    "plot(x=HighPeaks$Elevation, y=HighPeaks$Time, xlab=\"Elevation\", ylab=\"Time\",\n",
    "     main=\"Correlation between Time and Elevation\")"
   ]
  },
  {
   "cell_type": "markdown",
   "id": "68198eb1-f70b-48e9-8f28-73e8c4e647c7",
   "metadata": {},
   "source": [
    "Since the points are sparse, there is not a strong linear relationship between elevation and time,\n",
    "so I think elevation is good for predicting. \\\n",
    "Time doesn't help much."
   ]
  },
  {
   "cell_type": "code",
   "execution_count": 3,
   "id": "2a0c5c25-32b8-49ba-afa1-2aebc1bc5937",
   "metadata": {},
   "outputs": [
    {
     "data": {
      "text/plain": [
       "\n",
       "Call:\n",
       "lm(formula = Time ~ Elevation + Length, data = HighPeaks)\n",
       "\n",
       "Residuals:\n",
       "    Min      1Q  Median      3Q     Max \n",
       "-2.5924 -0.8050 -0.1959  0.6380  3.8432 \n",
       "\n",
       "Coefficients:\n",
       "              Estimate Std. Error t value Pr(>|t|)    \n",
       "(Intercept)  8.0753787  2.5327132   3.188  0.00267 ** \n",
       "Elevation   -0.0014483  0.0005805  -2.495  0.01653 *  \n",
       "Length       0.7123344  0.0593330  12.006 2.54e-15 ***\n",
       "---\n",
       "Signif. codes:  0 ‘***’ 0.001 ‘**’ 0.01 ‘*’ 0.05 ‘.’ 0.1 ‘ ’ 1\n",
       "\n",
       "Residual standard error: 1.37 on 43 degrees of freedom\n",
       "Multiple R-squared:  0.7703,\tAdjusted R-squared:  0.7596 \n",
       "F-statistic: 72.09 on 2 and 43 DF,  p-value: 1.844e-14\n"
      ]
     },
     "metadata": {},
     "output_type": "display_data"
    }
   ],
   "source": [
    "# part b\n",
    "mr_model1 = lm(Time~Elevation + Length, data=HighPeaks)\n",
    "summary(mr_model1)"
   ]
  },
  {
   "cell_type": "code",
   "execution_count": 4,
   "id": "ec069297-edbb-49e8-bb23-cca2d6c340da",
   "metadata": {},
   "outputs": [
    {
     "data": {
      "text/plain": [
       "\n",
       "Call:\n",
       "lm(formula = Time ~ Elevation, data = HighPeaks)\n",
       "\n",
       "Residuals:\n",
       "    Min      1Q  Median      3Q     Max \n",
       "-5.6912 -1.6985 -0.5639  1.2963  7.3015 \n",
       "\n",
       "Coefficients:\n",
       "              Estimate Std. Error t value Pr(>|t|)  \n",
       "(Intercept) 11.2113764  5.1953800   2.158   0.0364 *\n",
       "Elevation   -0.0001269  0.0011756  -0.108   0.9145  \n",
       "---\n",
       "Signif. codes:  0 ‘***’ 0.001 ‘**’ 0.01 ‘*’ 0.05 ‘.’ 0.1 ‘ ’ 1\n",
       "\n",
       "Residual standard error: 2.826 on 44 degrees of freedom\n",
       "Multiple R-squared:  0.0002649,\tAdjusted R-squared:  -0.02246 \n",
       "F-statistic: 0.01166 on 1 and 44 DF,  p-value: 0.9145\n"
      ]
     },
     "metadata": {},
     "output_type": "display_data"
    }
   ],
   "source": [
    "mr_model2 = lm(Time~Elevation, data=HighPeaks)\n",
    "summary(mr_model2)"
   ]
  },
  {
   "cell_type": "code",
   "execution_count": 5,
   "id": "e63861d8-992c-4d00-bf17-07194b42c1d2",
   "metadata": {},
   "outputs": [
    {
     "data": {
      "text/plain": [
       "\n",
       "Call:\n",
       "lm(formula = Time ~ Length, data = HighPeaks)\n",
       "\n",
       "Residuals:\n",
       "    Min      1Q  Median      3Q     Max \n",
       "-2.4491 -0.6687 -0.0122  0.5590  4.0034 \n",
       "\n",
       "Coefficients:\n",
       "            Estimate Std. Error t value Pr(>|t|)    \n",
       "(Intercept)  2.04817    0.80371   2.548   0.0144 *  \n",
       "Length       0.68427    0.06162  11.105 2.39e-14 ***\n",
       "---\n",
       "Signif. codes:  0 ‘***’ 0.001 ‘**’ 0.01 ‘*’ 0.05 ‘.’ 0.1 ‘ ’ 1\n",
       "\n",
       "Residual standard error: 1.449 on 44 degrees of freedom\n",
       "Multiple R-squared:  0.737,\tAdjusted R-squared:  0.7311 \n",
       "F-statistic: 123.3 on 1 and 44 DF,  p-value: 2.39e-14\n"
      ]
     },
     "metadata": {},
     "output_type": "display_data"
    }
   ],
   "source": [
    "mr_model3 = lm(Time~Length, data=HighPeaks)\n",
    "summary(mr_model3)"
   ]
  },
  {
   "cell_type": "markdown",
   "id": "4ebec1cd-de88-4527-8809-6406a32eab4b",
   "metadata": {},
   "source": [
    "In the two-predictor model, elevation becomes a more significant variable because P-value = 0.01653 \\\n",
    "Two-predictor model is also significant because both elevation and length are significant \\\n",
    "In these 3 models, R2-adj = 0.7596, R2-adj = -0.02246, R2=0, R2-adj = 0.7311 \\\n",
    "Our MLR model is better than the other two"
   ]
  }
 ],
 "metadata": {
  "kernelspec": {
   "display_name": "R",
   "language": "R",
   "name": "ir"
  },
  "language_info": {
   "codemirror_mode": "r",
   "file_extension": ".r",
   "mimetype": "text/x-r-source",
   "name": "R",
   "pygments_lexer": "r",
   "version": "4.2.3"
  }
 },
 "nbformat": 4,
 "nbformat_minor": 5
}
