{
 "cells": [
  {
   "cell_type": "markdown",
   "id": "b380b0e4-3f69-49c9-ae05-453ce1535861",
   "metadata": {
    "tags": []
   },
   "source": [
    "### Q4.14\n",
    "\n",
    "## part a\n",
    "baseline = White \\\n",
    "We find that only black's p-value is significant, representing that black people's mean birth weight will be different from white's.\\\n",
    "Hispanic and other have significant p-values, \n",
    "representing that there is no significant difference between the mean birth weight of these races and white people.\\\n",
    "\n",
    "## part b\n",
    "R2 = 1.9%\n",
    "\n",
    "## part c\n",
    "H0: beta1 = beta2 = beta3 = 0, Ha: at least one of beta1,2,3 not 0. \\\n",
    "F =  9.53, DF1=3, DF2=1446, P-VALUE = 0.000 very small, reject H0. \\\n",
    "Representing at least one race is helpful for predicting birth weight."
   ]
  }
 ],
 "metadata": {
  "kernelspec": {
   "display_name": "R",
   "language": "R",
   "name": "ir"
  },
  "language_info": {
   "codemirror_mode": "r",
   "file_extension": ".r",
   "mimetype": "text/x-r-source",
   "name": "R",
   "pygments_lexer": "r",
   "version": "4.2.3"
  }
 },
 "nbformat": 4,
 "nbformat_minor": 5
}
