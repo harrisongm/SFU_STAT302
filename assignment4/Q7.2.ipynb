{
 "cells": [
  {
   "cell_type": "markdown",
   "id": "0f658ee2-119a-43aa-b9a9-b5a4135adc5b",
   "metadata": {},
   "source": [
    "Q 7.2"
   ]
  },
  {
   "cell_type": "markdown",
   "id": "75731f0b-68a0-419d-a442-e32a07aa23af",
   "metadata": {},
   "source": [
    "a. \\\n",
    "df = 3 - 1 = 2 \\\n",
    "b. \\\n",
    "df = 3 - 1 = 2 \\\n",
    "c. \\\n",
    "df = 2x2 = 4 d. df = 27 - 3x3 = 18 \\\n",
    "27 = 3 x (3x3)"
   ]
  }
 ],
 "metadata": {
  "kernelspec": {
   "display_name": "R",
   "language": "R",
   "name": "ir"
  },
  "language_info": {
   "codemirror_mode": "r",
   "file_extension": ".r",
   "mimetype": "text/x-r-source",
   "name": "R",
   "pygments_lexer": "r",
   "version": "4.2.3"
  }
 },
 "nbformat": 4,
 "nbformat_minor": 5
}
