{
 "cells": [
  {
   "cell_type": "markdown",
   "id": "b497986e-1c6e-426e-8a66-73e7aa4a90cb",
   "metadata": {},
   "source": [
    "Q5.16"
   ]
  },
  {
   "cell_type": "markdown",
   "id": "c58415f1-66ee-4fe6-96ca-3829086a0d11",
   "metadata": {},
   "source": [
    "a.\n",
    "explanatory: dog food type/ diet type, three levels. \\\n",
    "response: average sleep time per 24 hours \\\n",
    "average amount of time each dog sleeps per 24 hours\\"
   ]
  },
  {
   "cell_type": "markdown",
   "id": "01c8d070-98b2-49f1-bf43-4fc1bddc09a9",
   "metadata": {},
   "source": [
    "b. \n",
    "Observational study: Observational learning method, passive data collection. \\\n",
    "This question is a randmozied exepriment, and the reason for that is because we've taken it upon ourselves to assign each dog what dog food to eat. \\"
   ]
  },
  {
   "cell_type": "markdown",
   "id": "2bcd1d3e-8ee7-45d3-9c06-dfef8f5c8d19",
   "metadata": {},
   "source": [
    "c.\n",
    "Yes, we can do anova since the sleep times of dogs do not interact with each other and are independent, although the sample is not randomized, we randomly assigned dog food. \\"
   ]
  }
 ],
 "metadata": {
  "kernelspec": {
   "display_name": "R",
   "language": "R",
   "name": "ir"
  },
  "language_info": {
   "codemirror_mode": "r",
   "file_extension": ".r",
   "mimetype": "text/x-r-source",
   "name": "R",
   "pygments_lexer": "r",
   "version": "4.2.3"
  }
 },
 "nbformat": 4,
 "nbformat_minor": 5
}
