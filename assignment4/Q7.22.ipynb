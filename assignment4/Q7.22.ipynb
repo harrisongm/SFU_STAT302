{
 "cells": [
  {
   "cell_type": "markdown",
   "id": "613f1092-8145-4209-81ab-ed1f9d1358b0",
   "metadata": {},
   "source": [
    "Q 7.22"
   ]
  },
  {
   "cell_type": "markdown",
   "id": "5cd05520-d0f4-4fa4-9556-6dedc58856ed",
   "metadata": {},
   "source": [
    "The two lines are relatively parallel, so there's not much interactions."
   ]
  }
 ],
 "metadata": {
  "kernelspec": {
   "display_name": "R",
   "language": "R",
   "name": "ir"
  },
  "language_info": {
   "codemirror_mode": "r",
   "file_extension": ".r",
   "mimetype": "text/x-r-source",
   "name": "R",
   "pygments_lexer": "r",
   "version": "4.2.3"
  }
 },
 "nbformat": 4,
 "nbformat_minor": 5
}
