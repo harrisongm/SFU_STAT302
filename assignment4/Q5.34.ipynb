{
 "cells": [
  {
   "cell_type": "markdown",
   "id": "50a35853-25d0-42ac-a2db-127ce5f88f69",
   "metadata": {},
   "source": [
    "Q 5.34"
   ]
  },
  {
   "cell_type": "markdown",
   "id": "c0cc6483-0614-458e-987b-c63db6854802",
   "metadata": {},
   "source": [
    "a.\n",
    "df1 = 51 - 46 = 5 \\\n",
    "SS = 64.77 - 39.87 = 24.9 \\\n",
    "F = 4.9807 / 0.8667 = 5.75"
   ]
  },
  {
   "cell_type": "markdown",
   "id": "c0d8bccf-aea5-48bc-ba00-91e64eceaedc",
   "metadata": {},
   "source": [
    "b.\n",
    "df = 5, 5+1 = 6, 6 different combinations."
   ]
  },
  {
   "cell_type": "markdown",
   "id": "43818303-1d9d-489c-9051-77359935cac9",
   "metadata": {
    "tags": []
   },
   "source": [
    "c.\n",
    "P-value = 0.000 is very small, REJECT H0, and all we have is evidence that the mean amount of honeydew is not the same size for at least one combination."
   ]
  }
 ],
 "metadata": {
  "kernelspec": {
   "display_name": "R",
   "language": "R",
   "name": "ir"
  },
  "language_info": {
   "codemirror_mode": "r",
   "file_extension": ".r",
   "mimetype": "text/x-r-source",
   "name": "R",
   "pygments_lexer": "r",
   "version": "4.2.3"
  }
 },
 "nbformat": 4,
 "nbformat_minor": 5
}
