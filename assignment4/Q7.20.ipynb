{
 "cells": [
  {
   "cell_type": "markdown",
   "id": "3764f4da-ea9d-40f2-b565-dd3ddb0d9c82",
   "metadata": {},
   "source": [
    "Q 7.20"
   ]
  },
  {
   "cell_type": "markdown",
   "id": "0135b12c-ff27-4158-bc0b-164957e3a260",
   "metadata": {},
   "source": [
    "For the same condition (European/River), Control's response is higher than flooded response, response = ATP \\\n",
    "For the same condition (Control/Flooded), River's response is higher than European's response."
   ]
  }
 ],
 "metadata": {
  "kernelspec": {
   "display_name": "R",
   "language": "R",
   "name": "ir"
  },
  "language_info": {
   "codemirror_mode": "r",
   "file_extension": ".r",
   "mimetype": "text/x-r-source",
   "name": "R",
   "pygments_lexer": "r",
   "version": "4.2.3"
  }
 },
 "nbformat": 4,
 "nbformat_minor": 5
}
