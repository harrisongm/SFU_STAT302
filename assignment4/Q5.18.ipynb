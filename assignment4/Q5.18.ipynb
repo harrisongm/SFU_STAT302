{
 "cells": [
  {
   "cell_type": "markdown",
   "id": "a777ad8b-9c7a-4c99-b57f-d869e875dc97",
   "metadata": {},
   "source": [
    "Q 5.18"
   ]
  },
  {
   "cell_type": "markdown",
   "id": "c88d83dc-153c-4463-90b6-37423f55e83a",
   "metadata": {},
   "source": [
    "a.\n",
    "45 Border Collies. \\"
   ]
  },
  {
   "cell_type": "markdown",
   "id": "ab28fc95-1018-48b5-9e62-010f424966f7",
   "metadata": {},
   "source": [
    "b.\n",
    "Treats are 3 different dog treats, salmon, chicken and beef. \\"
   ]
  },
  {
   "cell_type": "markdown",
   "id": "eb694871-aaf2-4d3f-8ed1-9e7c32570619",
   "metadata": {},
   "source": [
    "c.\n",
    "To ensure balanced design, we need to assign 15 dogs to each dog food.\\"
   ]
  }
 ],
 "metadata": {
  "kernelspec": {
   "display_name": "R",
   "language": "R",
   "name": "ir"
  },
  "language_info": {
   "codemirror_mode": "r",
   "file_extension": ".r",
   "mimetype": "text/x-r-source",
   "name": "R",
   "pygments_lexer": "r",
   "version": "4.2.3"
  }
 },
 "nbformat": 4,
 "nbformat_minor": 5
}
