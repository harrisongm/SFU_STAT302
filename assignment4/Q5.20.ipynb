{
 "cells": [
  {
   "cell_type": "markdown",
   "id": "2e0bdfe6-a983-46f7-9a9a-279f82b92985",
   "metadata": {},
   "source": [
    "Q 5.20"
   ]
  },
  {
   "cell_type": "markdown",
   "id": "7e2d6cb4-5327-45f2-8fa6-68309d55efd0",
   "metadata": {},
   "source": [
    "group df: 3-1 = 2 \\\n",
    "error df: n = 45, 45 - 3 = 42 \\\n",
    "total df: 45 - 1 = 44 "
   ]
  }
 ],
 "metadata": {
  "kernelspec": {
   "display_name": "R",
   "language": "R",
   "name": "ir"
  },
  "language_info": {
   "codemirror_mode": "r",
   "file_extension": ".r",
   "mimetype": "text/x-r-source",
   "name": "R",
   "pygments_lexer": "r",
   "version": "4.2.3"
  }
 },
 "nbformat": 4,
 "nbformat_minor": 5
}
