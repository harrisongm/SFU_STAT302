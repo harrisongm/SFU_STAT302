{
 "cells": [
  {
   "cell_type": "markdown",
   "id": "d6389d0f-cfd8-4dd9-8083-c65f39e8bcb0",
   "metadata": {},
   "source": [
    "Q 5.24"
   ]
  },
  {
   "cell_type": "markdown",
   "id": "e65035a6-c11b-40b3-93a5-dfc2950bc454",
   "metadata": {},
   "source": [
    "a.\n",
    "H0: alpha1 = alpha2 = alpha3 = 0 \\\n",
    "The size of turtles is the same for different states."
   ]
  },
  {
   "cell_type": "markdown",
   "id": "bf7bb08e-88fe-432d-b803-d073733a0535",
   "metadata": {},
   "source": [
    "b.\n",
    "Sample size of each state, size of each set of turtles."
   ]
  },
  {
   "cell_type": "markdown",
   "id": "76041eac-1305-4499-bd93-3e7506ac2327",
   "metadata": {},
   "source": [
    "c.\n",
    "We need to calculate the residual for each turtle, to determine constant variance and normality."
   ]
  }
 ],
 "metadata": {
  "kernelspec": {
   "display_name": "R",
   "language": "R",
   "name": "ir"
  },
  "language_info": {
   "codemirror_mode": "r",
   "file_extension": ".r",
   "mimetype": "text/x-r-source",
   "name": "R",
   "pygments_lexer": "r",
   "version": "4.2.3"
  }
 },
 "nbformat": 4,
 "nbformat_minor": 5
}
