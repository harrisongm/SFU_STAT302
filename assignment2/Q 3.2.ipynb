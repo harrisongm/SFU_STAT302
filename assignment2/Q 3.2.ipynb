{
 "cells": [
  {
   "cell_type": "markdown",
   "id": "95164897-5d6d-4f76-8529-055c8dd2e90e",
   "metadata": {},
   "source": [
    "STAT302 - assignment 2 Q 3.2"
   ]
  },
  {
   "cell_type": "code",
   "execution_count": 1,
   "id": "619a856f-3074-45b9-80d1-90579dc362ca",
   "metadata": {},
   "outputs": [],
   "source": [
    "# Q 3.2 a\n",
    "caloriesHat = 109.3 + 1 * 11 - 3.7 * 1"
   ]
  },
  {
   "cell_type": "markdown",
   "id": "316b49b0-2ca5-4cbf-a75d-42226af0f203",
   "metadata": {},
   "source": [
    "The caloriesHat is 116.6"
   ]
  },
  {
   "cell_type": "code",
   "execution_count": 2,
   "id": "727d2021-11f9-4d00-8b49-7e03b7705b86",
   "metadata": {},
   "outputs": [
    {
     "data": {
      "text/html": [
       "-6.59999999999999"
      ],
      "text/latex": [
       "-6.59999999999999"
      ],
      "text/markdown": [
       "-6.59999999999999"
      ],
      "text/plain": [
       "[1] -6.6"
      ]
     },
     "metadata": {},
     "output_type": "display_data"
    }
   ],
   "source": [
    "# Q 3.2 b\n",
    "110 - 116.6"
   ]
  },
  {
   "cell_type": "markdown",
   "id": "e830f697-2183-45c7-b9e1-d7b0b5c791b4",
   "metadata": {},
   "source": [
    "Frosted Flake, his calorie content was 6.60 calories less than the model predicted."
   ]
  }
 ],
 "metadata": {
  "kernelspec": {
   "display_name": "R",
   "language": "R",
   "name": "ir"
  },
  "language_info": {
   "codemirror_mode": "r",
   "file_extension": ".r",
   "mimetype": "text/x-r-source",
   "name": "R",
   "pygments_lexer": "r",
   "version": "4.2.2"
  }
 },
 "nbformat": 4,
 "nbformat_minor": 5
}
