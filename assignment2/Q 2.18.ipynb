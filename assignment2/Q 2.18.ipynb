{
 "cells": [
  {
   "cell_type": "markdown",
   "id": "baae4085-da56-4908-91fa-2566d679e7ab",
   "metadata": {},
   "source": [
    "STAT302 - assignment 2 Q 2.18"
   ]
  },
  {
   "cell_type": "code",
   "execution_count": 1,
   "id": "f4cf89e7-2146-4db1-a8d8-809a6f51ab0e",
   "metadata": {},
   "outputs": [
    {
     "name": "stdout",
     "output_type": "stream",
     "text": [
      "'data.frame':\t116 obs. of  3 variables:\n",
      " $ Treatment : Factor w/ 3 levels \"control\",\"enlarged\",..: 1 1 1 1 1 1 1 1 1 1 ...\n",
      " $ Weight    : num  14.9 15 14.3 17 16 16.2 12.4 14.6 12.2 13 ...\n",
      " $ WingLength: num  29 31 25 29 30 31.5 23.5 26 25.5 27 ...\n"
     ]
    }
   ],
   "source": [
    "#Q 2.18 a\n",
    "library(Stat2Data)\n",
    "data(Sparrows)\n",
    "str(Sparrows)"
   ]
  },
  {
   "cell_type": "code",
   "execution_count": 2,
   "id": "9e8ce787-0cf9-44b8-ab18-939a9b08f383",
   "metadata": {},
   "outputs": [
    {
     "data": {
      "text/plain": [
       "\n",
       "Call:\n",
       "lm(formula = Weight ~ WingLength, data = Sparrows)\n",
       "\n",
       "Residuals:\n",
       "    Min      1Q  Median      3Q     Max \n",
       "-3.5440 -0.9935  0.0809  1.0559  3.4168 \n",
       "\n",
       "Coefficients:\n",
       "            Estimate Std. Error t value Pr(>|t|)    \n",
       "(Intercept)  1.36549    0.95731   1.426    0.156    \n",
       "WingLength   0.46740    0.03472  13.463   <2e-16 ***\n",
       "---\n",
       "Signif. codes:  0 ‘***’ 0.001 ‘**’ 0.01 ‘*’ 0.05 ‘.’ 0.1 ‘ ’ 1\n",
       "\n",
       "Residual standard error: 1.4 on 114 degrees of freedom\n",
       "Multiple R-squared:  0.6139,\tAdjusted R-squared:  0.6105 \n",
       "F-statistic: 181.3 on 1 and 114 DF,  p-value: < 2.2e-16\n"
      ]
     },
     "metadata": {},
     "output_type": "display_data"
    }
   ],
   "source": [
    "model = lm(Weight ~ WingLength, data = Sparrows)\n",
    "summary(model)"
   ]
  },
  {
   "cell_type": "markdown",
   "id": "a5d75b1a-7f02-45f4-8bb7-51dae8e14eeb",
   "metadata": {},
   "source": [
    "H0: beta1 = 0, Ha: beta1 not 0 \\\n",
    "t = 13.463 df = 114 \\\n",
    "P-value < 2e-16 \\\n",
    "Reject H0 \\\n",
    "We have evidence that winglength can effect the sparrows's weight."
   ]
  },
  {
   "cell_type": "code",
   "execution_count": 3,
   "id": "0a41ec8b-1c3a-4430-83ab-c989025a4b73",
   "metadata": {},
   "outputs": [
    {
     "data": {
      "text/html": [
       "<table class=\"dataframe\">\n",
       "<caption>A matrix: 2 × 2 of type dbl</caption>\n",
       "<thead>\n",
       "\t<tr><th></th><th scope=col>2.5 %</th><th scope=col>97.5 %</th></tr>\n",
       "</thead>\n",
       "<tbody>\n",
       "\t<tr><th scope=row>(Intercept)</th><td>-0.5309316</td><td>3.2619109</td></tr>\n",
       "\t<tr><th scope=row>WingLength</th><td> 0.3986288</td><td>0.5361792</td></tr>\n",
       "</tbody>\n",
       "</table>\n"
      ],
      "text/latex": [
       "A matrix: 2 × 2 of type dbl\n",
       "\\begin{tabular}{r|ll}\n",
       "  & 2.5 \\% & 97.5 \\%\\\\\n",
       "\\hline\n",
       "\t(Intercept) & -0.5309316 & 3.2619109\\\\\n",
       "\tWingLength &  0.3986288 & 0.5361792\\\\\n",
       "\\end{tabular}\n"
      ],
      "text/markdown": [
       "\n",
       "A matrix: 2 × 2 of type dbl\n",
       "\n",
       "| <!--/--> | 2.5 % | 97.5 % |\n",
       "|---|---|---|\n",
       "| (Intercept) | -0.5309316 | 3.2619109 |\n",
       "| WingLength |  0.3986288 | 0.5361792 |\n",
       "\n"
      ],
      "text/plain": [
       "            2.5 %      97.5 %   \n",
       "(Intercept) -0.5309316 3.2619109\n",
       "WingLength   0.3986288 0.5361792"
      ]
     },
     "metadata": {},
     "output_type": "display_data"
    }
   ],
   "source": [
    "#Q 2.18 b\n",
    "# 0.4674 - 1.984 * 0.03472\n",
    "# 0.4674 + 1.984 * 0.03472\n",
    "confint(model)"
   ]
  },
  {
   "cell_type": "markdown",
   "id": "33097fa7-1fe0-4df4-9249-6d56758dc941",
   "metadata": {},
   "source": [
    "We have 95% confident when sparrows's winglength increase 1 minimeter, the mean of weight will increase (0.399, 0.536) grams."
   ]
  },
  {
   "cell_type": "markdown",
   "id": "83a5a2cd-b25e-4dc4-963a-670a91d5a58f",
   "metadata": {},
   "source": [
    "## Q 2.18 c \n",
    "CI is not 0, we rejected H0 when we did hypothesis test(part a), so we get Ha's conclusion. \\\n",
    "In part a, P-value is a small number. It still reject H0, the conclusion are the same."
   ]
  }
 ],
 "metadata": {
  "kernelspec": {
   "display_name": "R",
   "language": "R",
   "name": "ir"
  },
  "language_info": {
   "codemirror_mode": "r",
   "file_extension": ".r",
   "mimetype": "text/x-r-source",
   "name": "R",
   "pygments_lexer": "r",
   "version": "4.2.2"
  }
 },
 "nbformat": 4,
 "nbformat_minor": 5
}
