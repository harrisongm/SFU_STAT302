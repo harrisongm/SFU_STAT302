{
 "cells": [
  {
   "cell_type": "markdown",
   "id": "bff5e661-5d02-4ee1-ba6a-c00e13211c95",
   "metadata": {},
   "source": [
    "STAT302 - Assignment 2 Q 2.16"
   ]
  },
  {
   "cell_type": "code",
   "execution_count": 1,
   "id": "fbdda678-07c3-4045-8cb0-6a65ba8f56af",
   "metadata": {},
   "outputs": [
    {
     "name": "stdout",
     "output_type": "stream",
     "text": [
      "'data.frame':\t30 obs. of  2 variables:\n",
      " $ Pages: int  600 91 200 400 521 315 800 800 600 488 ...\n",
      " $ Price: num  95 19.9 51.5 128.5 96 ...\n"
     ]
    }
   ],
   "source": [
    "#Q2.16 a\n",
    "library(Stat2Data)\n",
    "data(TextPrices)\n",
    "str(TextPrices)"
   ]
  },
  {
   "cell_type": "code",
   "execution_count": 2,
   "id": "e3587734-6d82-4167-98ff-d4f04c44c4d1",
   "metadata": {},
   "outputs": [
    {
     "data": {
      "text/plain": [
       "\n",
       "Call:\n",
       "lm(formula = Price ~ Pages, data = TextPrices)\n",
       "\n",
       "Residuals:\n",
       "    Min      1Q  Median      3Q     Max \n",
       "-65.475 -12.324  -0.584  15.304  72.991 \n",
       "\n",
       "Coefficients:\n",
       "            Estimate Std. Error t value Pr(>|t|)    \n",
       "(Intercept) -3.42231   10.46374  -0.327    0.746    \n",
       "Pages        0.14733    0.01925   7.653 2.45e-08 ***\n",
       "---\n",
       "Signif. codes:  0 ‘***’ 0.001 ‘**’ 0.01 ‘*’ 0.05 ‘.’ 0.1 ‘ ’ 1\n",
       "\n",
       "Residual standard error: 29.76 on 28 degrees of freedom\n",
       "Multiple R-squared:  0.6766,\tAdjusted R-squared:  0.665 \n",
       "F-statistic: 58.57 on 1 and 28 DF,  p-value: 2.452e-08\n"
      ]
     },
     "metadata": {},
     "output_type": "display_data"
    }
   ],
   "source": [
    "model = lm(Price ~ Pages, data = TextPrices)\n",
    "summary(model)"
   ]
  },
  {
   "cell_type": "markdown",
   "id": "8ab4d185-fdaa-441d-b230-0636bc0e3104",
   "metadata": {},
   "source": [
    "H0:beta1 = 0, Ha: beta1 /= 0 \\\n",
    "t = 7.653, df = 28 \\\n",
    "P-value = 2.452e-08 \\\n",
    "Reject H0 \\\n",
    "We have evidence that pages and price have linear relationship."
   ]
  },
  {
   "cell_type": "code",
   "execution_count": 3,
   "id": "5934bd2f-2a5f-466d-9d2b-5cc4f2fcd86b",
   "metadata": {},
   "outputs": [
    {
     "data": {
      "text/html": [
       "0.107906"
      ],
      "text/latex": [
       "0.107906"
      ],
      "text/markdown": [
       "0.107906"
      ],
      "text/plain": [
       "[1] 0.107906"
      ]
     },
     "metadata": {},
     "output_type": "display_data"
    },
    {
     "data": {
      "text/html": [
       "0.186754"
      ],
      "text/latex": [
       "0.186754"
      ],
      "text/markdown": [
       "0.186754"
      ],
      "text/plain": [
       "[1] 0.186754"
      ]
     },
     "metadata": {},
     "output_type": "display_data"
    }
   ],
   "source": [
    "#Q 2.16 b\n",
    "0.14733 - 2.048 * 0.01925\n",
    "0.14733 + 2.048 * 0.01925"
   ]
  },
  {
   "cell_type": "markdown",
   "id": "7fb9dd8a-b33a-47eb-95f6-307d83142927",
   "metadata": {},
   "source": [
    "We have 95% confident when pages of book increase 1 page, the avg. price will increase (0.107906, 0.186754) dollar."
   ]
  }
 ],
 "metadata": {
  "kernelspec": {
   "display_name": "R",
   "language": "R",
   "name": "ir"
  },
  "language_info": {
   "codemirror_mode": "r",
   "file_extension": ".r",
   "mimetype": "text/x-r-source",
   "name": "R",
   "pygments_lexer": "r",
   "version": "4.2.2"
  }
 },
 "nbformat": 4,
 "nbformat_minor": 5
}
