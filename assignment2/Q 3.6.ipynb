{
 "cells": [
  {
   "cell_type": "markdown",
   "id": "87dd2339-e78d-45fe-8e92-5281c1cefc56",
   "metadata": {},
   "source": [
    "STAT302 - assignment 2 Q 3.6"
   ]
  },
  {
   "cell_type": "markdown",
   "id": "8accae7a-37e5-4355-9faa-07f4f9e46e5b",
   "metadata": {},
   "source": [
    "Guaranteed sugar remains constant, and when fiber increases by one unit, the average calorie count decreases by 3.7 units."
   ]
  }
 ],
 "metadata": {
  "kernelspec": {
   "display_name": "R",
   "language": "R",
   "name": "ir"
  },
  "language_info": {
   "codemirror_mode": "r",
   "file_extension": ".r",
   "mimetype": "text/x-r-source",
   "name": "R",
   "pygments_lexer": "r",
   "version": "4.2.2"
  }
 },
 "nbformat": 4,
 "nbformat_minor": 5
}
