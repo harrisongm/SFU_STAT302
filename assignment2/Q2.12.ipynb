{
 "cells": [
  {
   "cell_type": "markdown",
   "id": "9fc42680-649b-47f0-8b84-fdc118b0f095",
   "metadata": {},
   "source": [
    "STAT302 - Assignment 2 Q 2.12"
   ]
  },
  {
   "cell_type": "code",
   "execution_count": 1,
   "id": "37b1e756-8ae9-424f-a25e-5aca92c72aa9",
   "metadata": {},
   "outputs": [
    {
     "data": {
      "text/html": [
       "1.89285714285714"
      ],
      "text/latex": [
       "1.89285714285714"
      ],
      "text/markdown": [
       "1.89285714285714"
      ],
      "text/plain": [
       "[1] 1.892857"
      ]
     },
     "metadata": {},
     "output_type": "display_data"
    }
   ],
   "source": [
    "#Q2.12 a\n",
    "beta1Hat = 5.3\n",
    "beta1Se = 2.8\n",
    "t = (beta1Hat - 0) / beta1Se\n",
    "t"
   ]
  },
  {
   "cell_type": "code",
   "execution_count": 2,
   "id": "c873ceff-5489-4ec2-85dd-775176fc16f9",
   "metadata": {},
   "outputs": [
    {
     "data": {
      "text/html": [
       "0.0619934003516693"
      ],
      "text/latex": [
       "0.0619934003516693"
      ],
      "text/markdown": [
       "0.0619934003516693"
      ],
      "text/plain": [
       "[1] 0.0619934"
      ]
     },
     "metadata": {},
     "output_type": "display_data"
    }
   ],
   "source": [
    "PValue = 2 * (1 - pt(t, df = 80))\n",
    "PValue"
   ]
  },
  {
   "cell_type": "markdown",
   "id": "fca8855d-8d66-46ff-af39-1974fef61df2",
   "metadata": {},
   "source": [
    "H0: beta1 = 0, Ha: beta1 /= 0 \\\n",
    "t = 1.89\n",
    "PValue = 0.062\n",
    "\n",
    "Failed to reject H0\\\n",
    "We have no evidence the slope is different from 0"
   ]
  },
  {
   "cell_type": "code",
   "execution_count": 3,
   "id": "f1a84150-e2df-459b-a43e-5809af7c3f07",
   "metadata": {},
   "outputs": [
    {
     "data": {
      "text/html": [
       "-0.272"
      ],
      "text/latex": [
       "-0.272"
      ],
      "text/markdown": [
       "-0.272"
      ],
      "text/plain": [
       "[1] -0.272"
      ]
     },
     "metadata": {},
     "output_type": "display_data"
    },
    {
     "data": {
      "text/html": [
       "10.872"
      ],
      "text/latex": [
       "10.872"
      ],
      "text/markdown": [
       "10.872"
      ],
      "text/plain": [
       "[1] 10.872"
      ]
     },
     "metadata": {},
     "output_type": "display_data"
    }
   ],
   "source": [
    "#Q2.12 b\n",
    "5.3 - 1.99 * 2.8\n",
    "5.3 + 1.99 * 2.8"
   ]
  },
  {
   "cell_type": "markdown",
   "id": "c8d62128-75ac-4e9a-a344-2183e7e96bcd",
   "metadata": {},
   "source": [
    "We have 95% confident the slope is between (-0.272, 10.872)"
   ]
  }
 ],
 "metadata": {
  "kernelspec": {
   "display_name": "R",
   "language": "R",
   "name": "ir"
  },
  "language_info": {
   "codemirror_mode": "r",
   "file_extension": ".r",
   "mimetype": "text/x-r-source",
   "name": "R",
   "pygments_lexer": "r",
   "version": "4.2.2"
  }
 },
 "nbformat": 4,
 "nbformat_minor": 5
}
