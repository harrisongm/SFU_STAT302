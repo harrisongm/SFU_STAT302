{
 "cells": [
  {
   "cell_type": "markdown",
   "id": "7e8090e6-1a69-441a-b8d2-64fabfa78ca5",
   "metadata": {},
   "source": [
    "STAT302 - assignment 2 Q 3.22"
   ]
  },
  {
   "cell_type": "code",
   "execution_count": 1,
   "id": "75eac3ea-a767-4081-952a-f3c0377d190b",
   "metadata": {},
   "outputs": [
    {
     "data": {
      "text/html": [
       "0.54392088423502"
      ],
      "text/latex": [
       "0.54392088423502"
      ],
      "text/markdown": [
       "0.54392088423502"
      ],
      "text/plain": [
       "[1] 0.5439209"
      ]
     },
     "metadata": {},
     "output_type": "display_data"
    }
   ],
   "source": [
    "# Q 3.22 a\n",
    "R2 = 9350 / 17190\n",
    "R2"
   ]
  },
  {
   "cell_type": "markdown",
   "id": "06cc33e9-caa8-40e9-ac78-876a6e5f4eac",
   "metadata": {},
   "source": [
    "54.39% of the variability of calories can be explained by regression based on sugar and fiber."
   ]
  },
  {
   "cell_type": "code",
   "execution_count": 2,
   "id": "b7fe9add-2d85-4498-a98f-e70d2999276b",
   "metadata": {},
   "outputs": [
    {
     "data": {
      "text/html": [
       "15.413492711769"
      ],
      "text/latex": [
       "15.413492711769"
      ],
      "text/markdown": [
       "15.413492711769"
      ],
      "text/plain": [
       "[1] 15.41349"
      ]
     },
     "metadata": {},
     "output_type": "display_data"
    }
   ],
   "source": [
    "# Q 3.22 b\n",
    "sigmaE = sqrt(7840 / (36 - 2 -1))\n",
    "sigmaE"
   ]
  },
  {
   "cell_type": "markdown",
   "id": "8e781fa2-678a-47e2-a8a4-8e49de861c96",
   "metadata": {},
   "source": [
    "# Q 3.22 c\n",
    "## ANOVA Table\n",
    "|     |df|ss  |MS     |F      | \\\n",
    "|model|2 |9350|9350/2 |9350/2 | \\\n",
    "|error|33|7840|7840/33|7840/33|"
   ]
  },
  {
   "cell_type": "code",
   "execution_count": 3,
   "id": "b211b7f3-8531-4dbc-ba3f-4962d4b41ef9",
   "metadata": {},
   "outputs": [
    {
     "data": {
      "text/html": [
       "19.6779336734694"
      ],
      "text/latex": [
       "19.6779336734694"
      ],
      "text/markdown": [
       "19.6779336734694"
      ],
      "text/plain": [
       "[1] 19.67793"
      ]
     },
     "metadata": {},
     "output_type": "display_data"
    }
   ],
   "source": [
    "f = (9350 / 2) / (7840 / 33)\n",
    "f"
   ]
  },
  {
   "cell_type": "markdown",
   "id": "b344a856-2641-4033-9ca5-32b6c3c914bb",
   "metadata": {},
   "source": [
    "# Q 3.22 d\n",
    "p-value = 0.00002, it's a small number. \\\n",
    "Represents the overall model is significant. \\\n",
    "At least sugars and/or fiber are related to calories."
   ]
  }
 ],
 "metadata": {
  "kernelspec": {
   "display_name": "R",
   "language": "R",
   "name": "ir"
  },
  "language_info": {
   "codemirror_mode": "r",
   "file_extension": ".r",
   "mimetype": "text/x-r-source",
   "name": "R",
   "pygments_lexer": "r",
   "version": "4.2.3"
  }
 },
 "nbformat": 4,
 "nbformat_minor": 5
}
