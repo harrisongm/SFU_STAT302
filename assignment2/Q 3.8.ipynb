{
 "cells": [
  {
   "cell_type": "markdown",
   "id": "745389d4-acb8-4a06-8b8d-417b4d08d571",
   "metadata": {},
   "source": [
    "STAT302 - assignment 2 Q 3.8"
   ]
  },
  {
   "cell_type": "markdown",
   "id": "7f513895-e244-4ef4-a010-3122cabd1842",
   "metadata": {},
   "source": [
    "# Q3.8 a\n",
    "True. \\\n",
    "By adding a new variable, R^2 does not go down, but only stays the same or goes up. \\\n",
    "The reason is because by adding new variables, we have no way to reduce the varibility ratio.\n",
    "\n",
    "# Q3.8 b\n",
    "False.\n",
    "If the newly added variables do not have much effect on y, it is possible that R-adj will be lowered, so there is no way to guarantee that R2-adj will be larger than one of them."
   ]
  }
 ],
 "metadata": {
  "kernelspec": {
   "display_name": "R",
   "language": "R",
   "name": "ir"
  },
  "language_info": {
   "codemirror_mode": "r",
   "file_extension": ".r",
   "mimetype": "text/x-r-source",
   "name": "R",
   "pygments_lexer": "r",
   "version": "4.2.2"
  }
 },
 "nbformat": 4,
 "nbformat_minor": 5
}
