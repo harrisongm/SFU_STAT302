{
 "cells": [
  {
   "cell_type": "markdown",
   "id": "af32ec19-c2b0-4513-8448-98b6e18881d9",
   "metadata": {},
   "source": [
    "STAT302 - assignment 2  Q 3.10"
   ]
  },
  {
   "cell_type": "markdown",
   "id": "20263205-ed61-4a61-aa70-f5f8472106e1",
   "metadata": {},
   "source": [
    "#  Q 3.10 a\n",
    "Positive. \\\n",
    "The older the car, the greater the number of kilometers it should be.\n",
    "\n",
    "#  Q 3.10 b\n",
    "negative. \\\n",
    "The more kilometers the car is driven, the cheaper the price."
   ]
  }
 ],
 "metadata": {
  "kernelspec": {
   "display_name": "R",
   "language": "R",
   "name": "ir"
  },
  "language_info": {
   "codemirror_mode": "r",
   "file_extension": ".r",
   "mimetype": "text/x-r-source",
   "name": "R",
   "pygments_lexer": "r",
   "version": "4.2.2"
  }
 },
 "nbformat": 4,
 "nbformat_minor": 5
}
