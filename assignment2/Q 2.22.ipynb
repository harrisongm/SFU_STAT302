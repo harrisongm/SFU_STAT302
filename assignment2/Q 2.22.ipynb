{
 "cells": [
  {
   "cell_type": "markdown",
   "id": "1bf4737e-e078-4c5b-96cb-a489080936ad",
   "metadata": {},
   "source": [
    "STAT302 - Assignment 2 Q 2.22"
   ]
  },
  {
   "cell_type": "code",
   "execution_count": 1,
   "id": "9a3ba0f9-96dd-44d7-b8cc-06efb8a6d54a",
   "metadata": {},
   "outputs": [
    {
     "data": {
      "text/html": [
       "0.372549019607843"
      ],
      "text/latex": [
       "0.372549019607843"
      ],
      "text/markdown": [
       "0.372549019607843"
      ],
      "text/plain": [
       "[1] 0.372549"
      ]
     },
     "metadata": {},
     "output_type": "display_data"
    }
   ],
   "source": [
    "R2 = 38 / 102\n",
    "R2"
   ]
  },
  {
   "cell_type": "markdown",
   "id": "4f858b72-15f3-4933-8584-20e95b05d1c3",
   "metadata": {},
   "source": [
    "There is 37.25% Y's variability can be explained by regression line."
   ]
  }
 ],
 "metadata": {
  "kernelspec": {
   "display_name": "R",
   "language": "R",
   "name": "ir"
  },
  "language_info": {
   "codemirror_mode": "r",
   "file_extension": ".r",
   "mimetype": "text/x-r-source",
   "name": "R",
   "pygments_lexer": "r",
   "version": "4.2.2"
  }
 },
 "nbformat": 4,
 "nbformat_minor": 5
}
