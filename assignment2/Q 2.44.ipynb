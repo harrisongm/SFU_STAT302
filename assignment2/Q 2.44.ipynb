{
 "cells": [
  {
   "cell_type": "markdown",
   "id": "61817731-cdb7-44f8-9af8-7c07c5e6ab7d",
   "metadata": {},
   "source": [
    "STAT302 - Assignment 2 Q 2.44"
   ]
  },
  {
   "cell_type": "code",
   "execution_count": 1,
   "id": "a1ac261f-deb9-46c4-a477-1bf23576e33f",
   "metadata": {},
   "outputs": [
    {
     "name": "stdout",
     "output_type": "stream",
     "text": [
      "'data.frame':\t30 obs. of  2 variables:\n",
      " $ Pages: int  600 91 200 400 521 315 800 800 600 488 ...\n",
      " $ Price: num  95 19.9 51.5 128.5 96 ...\n"
     ]
    }
   ],
   "source": [
    "# Q 2.44 a\n",
    "library(Stat2Data)\n",
    "data(TextPrices)\n",
    "str(TextPrices)"
   ]
  },
  {
   "cell_type": "code",
   "execution_count": 2,
   "id": "a60c447f-0f6f-4310-a676-049225bab737",
   "metadata": {},
   "outputs": [
    {
     "data": {
      "text/html": [
       "<table class=\"dataframe\">\n",
       "<caption>A matrix: 1 × 3 of type dbl</caption>\n",
       "<thead>\n",
       "\t<tr><th></th><th scope=col>fit</th><th scope=col>lwr</th><th scope=col>upr</th></tr>\n",
       "</thead>\n",
       "<tbody>\n",
       "\t<tr><th scope=row>1</th><td>62.87549</td><td>51.73074</td><td>74.02024</td></tr>\n",
       "</tbody>\n",
       "</table>\n"
      ],
      "text/latex": [
       "A matrix: 1 × 3 of type dbl\n",
       "\\begin{tabular}{r|lll}\n",
       "  & fit & lwr & upr\\\\\n",
       "\\hline\n",
       "\t1 & 62.87549 & 51.73074 & 74.02024\\\\\n",
       "\\end{tabular}\n"
      ],
      "text/markdown": [
       "\n",
       "A matrix: 1 × 3 of type dbl\n",
       "\n",
       "| <!--/--> | fit | lwr | upr |\n",
       "|---|---|---|---|\n",
       "| 1 | 62.87549 | 51.73074 | 74.02024 |\n",
       "\n"
      ],
      "text/plain": [
       "  fit      lwr      upr     \n",
       "1 62.87549 51.73074 74.02024"
      ]
     },
     "metadata": {},
     "output_type": "display_data"
    }
   ],
   "source": [
    "model = lm(Price ~ Pages, data = TextPrices)\n",
    "predict(model, data.frame(Pages = 450), interval = 'confidence', conf.level = 0.95)"
   ]
  },
  {
   "cell_type": "code",
   "execution_count": 3,
   "id": "9d4d615f-788c-4f04-b489-c6a01fa8998e",
   "metadata": {},
   "outputs": [
    {
     "data": {
      "text/html": [
       "<table class=\"dataframe\">\n",
       "<caption>A matrix: 1 × 3 of type dbl</caption>\n",
       "<thead>\n",
       "\t<tr><th></th><th scope=col>fit</th><th scope=col>lwr</th><th scope=col>upr</th></tr>\n",
       "</thead>\n",
       "<tbody>\n",
       "\t<tr><th scope=row>1</th><td>62.87549</td><td>0.9035981</td><td>124.8474</td></tr>\n",
       "</tbody>\n",
       "</table>\n"
      ],
      "text/latex": [
       "A matrix: 1 × 3 of type dbl\n",
       "\\begin{tabular}{r|lll}\n",
       "  & fit & lwr & upr\\\\\n",
       "\\hline\n",
       "\t1 & 62.87549 & 0.9035981 & 124.8474\\\\\n",
       "\\end{tabular}\n"
      ],
      "text/markdown": [
       "\n",
       "A matrix: 1 × 3 of type dbl\n",
       "\n",
       "| <!--/--> | fit | lwr | upr |\n",
       "|---|---|---|---|\n",
       "| 1 | 62.87549 | 0.9035981 | 124.8474 |\n",
       "\n"
      ],
      "text/plain": [
       "  fit      lwr       upr     \n",
       "1 62.87549 0.9035981 124.8474"
      ]
     },
     "metadata": {},
     "output_type": "display_data"
    }
   ],
   "source": [
    "#Q 2.44 b\n",
    "predict(model, data.frame(Pages = 450), interval = 'prediction', conf.level = 0.95)"
   ]
  },
  {
   "cell_type": "markdown",
   "id": "be5a6a15-26a7-4607-92fa-9a1e2d2d5af7",
   "metadata": {},
   "source": [
    "# Q 2.44 c\n",
    "These two intervals's midpoint are the same, both are fitted value. \\\n",
    "According to equation, y-hat +/- SE."
   ]
  },
  {
   "cell_type": "markdown",
   "id": "f287ccb9-fc06-4159-bb6d-d89e85ea6c90",
   "metadata": {},
   "source": [
    "# Q 2.44 d\n",
    "The width of PI is wider than CI's. Because evalute a entirety is easier than a individual. \\\n",
    "The randomness of individual is large"
   ]
  },
  {
   "cell_type": "markdown",
   "id": "32e067d0-246f-4cd6-9aaf-0f97ccbb613f",
   "metadata": {},
   "source": [
    "# Q 2.44 e\n",
    "The PI is narrowest when the number of pages in the book is the average of the number of pages in all the books.\n",
    "(x* - x-bar),if this = 0, then his SE will be the smallest and therefore the narrowest."
   ]
  },
  {
   "cell_type": "code",
   "execution_count": 4,
   "id": "32039b56-e305-4d9f-ab4a-ca1cbb9a1a53",
   "metadata": {},
   "outputs": [
    {
     "data": {
      "text/html": [
       "<table class=\"dataframe\">\n",
       "<caption>A matrix: 1 × 3 of type dbl</caption>\n",
       "<thead>\n",
       "\t<tr><th></th><th scope=col>fit</th><th scope=col>lwr</th><th scope=col>upr</th></tr>\n",
       "</thead>\n",
       "<tbody>\n",
       "\t<tr><th scope=row>1</th><td>62.87549</td><td>0.9035981</td><td>124.8474</td></tr>\n",
       "</tbody>\n",
       "</table>\n"
      ],
      "text/latex": [
       "A matrix: 1 × 3 of type dbl\n",
       "\\begin{tabular}{r|lll}\n",
       "  & fit & lwr & upr\\\\\n",
       "\\hline\n",
       "\t1 & 62.87549 & 0.9035981 & 124.8474\\\\\n",
       "\\end{tabular}\n"
      ],
      "text/markdown": [
       "\n",
       "A matrix: 1 × 3 of type dbl\n",
       "\n",
       "| <!--/--> | fit | lwr | upr |\n",
       "|---|---|---|---|\n",
       "| 1 | 62.87549 | 0.9035981 | 124.8474 |\n",
       "\n"
      ],
      "text/plain": [
       "  fit      lwr       upr     \n",
       "1 62.87549 0.9035981 124.8474"
      ]
     },
     "metadata": {},
     "output_type": "display_data"
    }
   ],
   "source": [
    "# Q 2.44 f\n",
    "predict(model, data.frame(Pages = 450), interval = 'prediction', conf.level = 0.95)"
   ]
  },
  {
   "cell_type": "markdown",
   "id": "bca69ae9-4a6e-4bfa-a576-93161ba17848",
   "metadata": {},
   "source": [
    "Based on the data, we do not have 1500 pages of SAMPLES data, so we are not 95% confident that we will exceed our prediction range when predicting, thus making the CI inaccurate. Will be Extrapolation."
   ]
  }
 ],
 "metadata": {
  "kernelspec": {
   "display_name": "R",
   "language": "R",
   "name": "ir"
  },
  "language_info": {
   "codemirror_mode": "r",
   "file_extension": ".r",
   "mimetype": "text/x-r-source",
   "name": "R",
   "pygments_lexer": "r",
   "version": "4.2.2"
  }
 },
 "nbformat": 4,
 "nbformat_minor": 5
}
