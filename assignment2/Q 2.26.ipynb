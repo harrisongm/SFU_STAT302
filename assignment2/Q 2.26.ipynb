{
 "cells": [
  {
   "cell_type": "markdown",
   "id": "74ac7157-490a-42f8-996a-5561739cd77c",
   "metadata": {},
   "source": [
    "STAT302 - Assignment 2 Q 2.26"
   ]
  },
  {
   "cell_type": "code",
   "execution_count": 1,
   "id": "d2aaf073-5982-45c7-b5ea-ea717b5e264f",
   "metadata": {},
   "outputs": [
    {
     "name": "stdout",
     "output_type": "stream",
     "text": [
      "'data.frame':\t252 obs. of  5 variables:\n",
      " $ Width  : num  0.658 0.921 0.921 0.921 0.921 ...\n",
      " $ Length : num  85.1 53.2 59.9 63.7 64.2 ...\n",
      " $ LWRatio: num  129.4 57.7 65 69.1 69.7 ...\n",
      " $ Area   : num  70.3 49 57.7 37.4 62.6 ...\n",
      " $ Year   : int  1974 1918 1993 1946 1956 1964 1956 1980 1999 1977 ...\n"
     ]
    }
   ],
   "source": [
    "#Q 2.26 a\n",
    "library(Stat2Data)\n",
    "data(LeafWidth)\n",
    "str(LeafWidth)"
   ]
  },
  {
   "cell_type": "code",
   "execution_count": 2,
   "id": "19b116df-95b9-4b49-bf0c-94ef9bc6d3af",
   "metadata": {},
   "outputs": [
    {
     "data": {
      "text/plain": [
       "\n",
       "\tPearson's product-moment correlation\n",
       "\n",
       "data:  LeafWidth$Width and LeafWidth$Year\n",
       "t = -4.0294, df = 250, p-value = 7.425e-05\n",
       "alternative hypothesis: true correlation is not equal to 0\n",
       "95 percent confidence interval:\n",
       " -0.3595491 -0.1272589\n",
       "sample estimates:\n",
       "       cor \n",
       "-0.2469483 \n"
      ]
     },
     "metadata": {},
     "output_type": "display_data"
    }
   ],
   "source": [
    "cor.test(LeafWidth$Width, LeafWidth$Year)"
   ]
  },
  {
   "cell_type": "markdown",
   "id": "1022ea9c-854e-40d6-823c-b4c1d3c0f49c",
   "metadata": {},
   "source": [
    "H0: \\rho = 0, Ha: \\rho /= 0 \\\n",
    "t = -4.0294, p-value = 7.425e-05 \\\n",
    "reject H0 \\\n",
    "We have evidence to prove width and year have linear relationship."
   ]
  },
  {
   "cell_type": "code",
   "execution_count": 3,
   "id": "37fc050e-6e72-4f1e-af9e-40c5a7465f59",
   "metadata": {},
   "outputs": [
    {
     "data": {
      "text/html": [
       "0.06095961"
      ],
      "text/latex": [
       "0.06095961"
      ],
      "text/markdown": [
       "0.06095961"
      ],
      "text/plain": [
       "[1] 0.06095961"
      ]
     },
     "metadata": {},
     "output_type": "display_data"
    }
   ],
   "source": [
    "#Q 2.26 b\n",
    "R2 = (-0.2469)^2\n",
    "R2"
   ]
  },
  {
   "cell_type": "code",
   "execution_count": 4,
   "id": "9a1b42f7-0635-4ee3-a289-cab9f7464127",
   "metadata": {},
   "outputs": [
    {
     "data": {
      "text/html": [
       "<table class=\"dataframe\">\n",
       "<caption>A anova: 2 × 5</caption>\n",
       "<thead>\n",
       "\t<tr><th></th><th scope=col>Df</th><th scope=col>Sum Sq</th><th scope=col>Mean Sq</th><th scope=col>F value</th><th scope=col>Pr(&gt;F)</th></tr>\n",
       "\t<tr><th></th><th scope=col>&lt;int&gt;</th><th scope=col>&lt;dbl&gt;</th><th scope=col>&lt;dbl&gt;</th><th scope=col>&lt;dbl&gt;</th><th scope=col>&lt;dbl&gt;</th></tr>\n",
       "</thead>\n",
       "<tbody>\n",
       "\t<tr><th scope=row>Year</th><td>  1</td><td> 32.9113</td><td>32.911298</td><td>16.236</td><td>7.425211e-05</td></tr>\n",
       "\t<tr><th scope=row>Residuals</th><td>250</td><td>506.7643</td><td> 2.027057</td><td>    NA</td><td>          NA</td></tr>\n",
       "</tbody>\n",
       "</table>\n"
      ],
      "text/latex": [
       "A anova: 2 × 5\n",
       "\\begin{tabular}{r|lllll}\n",
       "  & Df & Sum Sq & Mean Sq & F value & Pr(>F)\\\\\n",
       "  & <int> & <dbl> & <dbl> & <dbl> & <dbl>\\\\\n",
       "\\hline\n",
       "\tYear &   1 &  32.9113 & 32.911298 & 16.236 & 7.425211e-05\\\\\n",
       "\tResiduals & 250 & 506.7643 &  2.027057 &     NA &           NA\\\\\n",
       "\\end{tabular}\n"
      ],
      "text/markdown": [
       "\n",
       "A anova: 2 × 5\n",
       "\n",
       "| <!--/--> | Df &lt;int&gt; | Sum Sq &lt;dbl&gt; | Mean Sq &lt;dbl&gt; | F value &lt;dbl&gt; | Pr(&gt;F) &lt;dbl&gt; |\n",
       "|---|---|---|---|---|---|\n",
       "| Year |   1 |  32.9113 | 32.911298 | 16.236 | 7.425211e-05 |\n",
       "| Residuals | 250 | 506.7643 |  2.027057 |     NA |           NA |\n",
       "\n"
      ],
      "text/plain": [
       "          Df  Sum Sq   Mean Sq   F value Pr(>F)      \n",
       "Year        1  32.9113 32.911298 16.236  7.425211e-05\n",
       "Residuals 250 506.7643  2.027057     NA            NA"
      ]
     },
     "metadata": {},
     "output_type": "display_data"
    }
   ],
   "source": [
    "#Q 2.26 c\n",
    "model = lm(Width ~ Year, data = LeafWidth)\n",
    "anova(model) # summary(aov(model))"
   ]
  },
  {
   "cell_type": "markdown",
   "id": "e52b296f-bb1b-4d3d-b267-fd461cdd9c5b",
   "metadata": {},
   "source": [
    "F = 16.24, p-value = 7.43e-05 \\\n",
    "reject H0 \\\n",
    "We have evidence that Width and Year have linear relationship."
   ]
  },
  {
   "cell_type": "code",
   "execution_count": 5,
   "id": "51e80f08-45a5-4c7e-8f28-d2667733f088",
   "metadata": {},
   "outputs": [
    {
     "data": {
      "text/html": [
       "4.02988833592198"
      ],
      "text/latex": [
       "4.02988833592198"
      ],
      "text/markdown": [
       "4.02988833592198"
      ],
      "text/plain": [
       "[1] 4.029888"
      ]
     },
     "metadata": {},
     "output_type": "display_data"
    }
   ],
   "source": [
    "#Q 2.26 d\n",
    "sqrt(16.24)"
   ]
  },
  {
   "cell_type": "markdown",
   "id": "6d397cbb-0c29-41ce-b374-503d9e3304d9",
   "metadata": {},
   "source": [
    "So: ANOVA's F should be equal to t^2"
   ]
  }
 ],
 "metadata": {
  "kernelspec": {
   "display_name": "R",
   "language": "R",
   "name": "ir"
  },
  "language_info": {
   "codemirror_mode": "r",
   "file_extension": ".r",
   "mimetype": "text/x-r-source",
   "name": "R",
   "pygments_lexer": "r",
   "version": "4.2.2"
  }
 },
 "nbformat": 4,
 "nbformat_minor": 5
}
