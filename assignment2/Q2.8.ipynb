{
 "cells": [
  {
   "cell_type": "markdown",
   "id": "c37ca6e4-65db-417f-9d11-695c5eba608e",
   "metadata": {},
   "source": [
    "STAT302 - Assignment 2 Q2.8\n",
    "\n",
    "C"
   ]
  }
 ],
 "metadata": {
  "kernelspec": {
   "display_name": "R",
   "language": "R",
   "name": "ir"
  },
  "language_info": {
   "codemirror_mode": "r",
   "file_extension": ".r",
   "mimetype": "text/x-r-source",
   "name": "R",
   "pygments_lexer": "r",
   "version": "4.2.2"
  }
 },
 "nbformat": 4,
 "nbformat_minor": 5
}
